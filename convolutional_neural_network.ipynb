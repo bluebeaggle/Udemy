{
  "cells": [
    {
      "cell_type": "markdown",
      "metadata": {
        "colab_type": "text",
        "id": "3DR-eO17geWu"
      },
      "source": [
        "# Convolutional Neural Network"
      ]
    },
    {
      "cell_type": "markdown",
      "metadata": {
        "colab_type": "text",
        "id": "EMefrVPCg-60"
      },
      "source": [
        "### Importing the libraries"
      ]
    },
    {
      "cell_type": "code",
      "execution_count": 1,
      "metadata": {
        "colab": {},
        "colab_type": "code",
        "id": "sCV30xyVhFbE"
      },
      "outputs": [],
      "source": [
        "import tensorflow as tf\n",
        "from keras.preprocessing.image import ImageDataGenerator"
      ]
    },
    {
      "cell_type": "code",
      "execution_count": 2,
      "metadata": {
        "colab": {},
        "colab_type": "code",
        "id": "FIleuCAjoFD8"
      },
      "outputs": [
        {
          "data": {
            "text/plain": [
              "'2.8.0'"
            ]
          },
          "execution_count": 2,
          "metadata": {},
          "output_type": "execute_result"
        }
      ],
      "source": [
        "tf.__version__"
      ]
    },
    {
      "cell_type": "markdown",
      "metadata": {
        "colab_type": "text",
        "id": "oxQxCBWyoGPE"
      },
      "source": [
        "## Part 1 - Data Preprocessing"
      ]
    },
    {
      "cell_type": "markdown",
      "metadata": {
        "colab_type": "text",
        "id": "MvE-heJNo3GG"
      },
      "source": [
        "### Preprocessing the Training set"
      ]
    },
    {
      "cell_type": "markdown",
      "metadata": {},
      "source": [
        "과적합을 방지하며, 과도한 학습을 방지하는 것에 초점을 맞춤\n",
        "개 or 고양이 이기 때문에 Binary로 설정"
      ]
    },
    {
      "cell_type": "code",
      "execution_count": 3,
      "metadata": {
        "colab": {},
        "colab_type": "code",
        "id": "0koUcJMJpEBD"
      },
      "outputs": [
        {
          "name": "stdout",
          "output_type": "stream",
          "text": [
            "Found 8000 images belonging to 2 classes.\n"
          ]
        }
      ],
      "source": [
        "train_datagen = ImageDataGenerator(rescale = 1./255,\n",
        "                                   shear_range = 0.2,\n",
        "                                   zoom_range = 0.2,\n",
        "                                   horizontal_flip = True)\n",
        "training_set = train_datagen.flow_from_directory('dataset/training_set',\n",
        "                                                 target_size = (64, 64),\n",
        "                                                 batch_size = 32,\n",
        "                                                 class_mode = 'binary')"
      ]
    },
    {
      "cell_type": "markdown",
      "metadata": {
        "colab_type": "text",
        "id": "mrCMmGw9pHys"
      },
      "source": [
        "### Preprocessing the Test set"
      ]
    },
    {
      "cell_type": "markdown",
      "metadata": {},
      "source": [
        "원본이미지처럼 유지해야하지만, 픽셀크기만 조절함"
      ]
    },
    {
      "cell_type": "code",
      "execution_count": 4,
      "metadata": {
        "colab": {},
        "colab_type": "code",
        "id": "SH4WzfOhpKc3"
      },
      "outputs": [
        {
          "name": "stdout",
          "output_type": "stream",
          "text": [
            "Found 2000 images belonging to 2 classes.\n"
          ]
        }
      ],
      "source": [
        "test_datagen = ImageDataGenerator(rescale = 1./255)\n",
        "test_set = test_datagen.flow_from_directory('dataset/test_set',\n",
        "                                            target_size = (64, 64),\n",
        "                                            batch_size = 32,\n",
        "                                            class_mode = 'binary')"
      ]
    },
    {
      "cell_type": "markdown",
      "metadata": {
        "colab_type": "text",
        "id": "af8O4l90gk7B"
      },
      "source": [
        "## Part 2 - Building the CNN"
      ]
    },
    {
      "cell_type": "markdown",
      "metadata": {
        "colab_type": "text",
        "id": "ces1gXY2lmoX"
      },
      "source": [
        "### Initialising the CNN"
      ]
    },
    {
      "cell_type": "code",
      "execution_count": 5,
      "metadata": {
        "colab": {},
        "colab_type": "code",
        "id": "SAUt4UMPlhLS"
      },
      "outputs": [],
      "source": [
        "cnn = tf.keras.models.Sequential()"
      ]
    },
    {
      "cell_type": "markdown",
      "metadata": {
        "colab_type": "text",
        "id": "u5YJj_XMl5LF"
      },
      "source": [
        "### Step 1 - Convolution"
      ]
    },
    {
      "cell_type": "markdown",
      "metadata": {},
      "source": [
        "filters = 특정감지기의 갯수 / Kenrnel_size = 행열크기 / Activation = ReLU / 컬러-3,흑백-1,사이즈 : 64x64"
      ]
    },
    {
      "cell_type": "code",
      "execution_count": 6,
      "metadata": {
        "colab": {},
        "colab_type": "code",
        "id": "XPzPrMckl-hV"
      },
      "outputs": [],
      "source": [
        "cnn.add(tf.keras.layers.Conv2D(filters=32, kernel_size=3, activation='relu', input_shape=[64, 64, 3]))"
      ]
    },
    {
      "cell_type": "markdown",
      "metadata": {
        "colab_type": "text",
        "id": "tf87FpvxmNOJ"
      },
      "source": [
        "### Step 2 - Pooling"
      ]
    },
    {
      "cell_type": "markdown",
      "metadata": {},
      "source": [
        "pool_size = MaxPool의 사이즈(행열 중 하나만 적기) / strides = 오른쪽으로 몇 픽셀을 움직이는지 적용"
      ]
    },
    {
      "cell_type": "code",
      "execution_count": 7,
      "metadata": {
        "colab": {},
        "colab_type": "code",
        "id": "ncpqPl69mOac"
      },
      "outputs": [],
      "source": [
        "cnn.add(tf.keras.layers.MaxPool2D(pool_size=2, strides=2))"
      ]
    },
    {
      "cell_type": "markdown",
      "metadata": {
        "colab_type": "text",
        "id": "xaTOgD8rm4mU"
      },
      "source": [
        "### Adding a second convolutional layer"
      ]
    },
    {
      "cell_type": "code",
      "execution_count": 8,
      "metadata": {
        "colab": {},
        "colab_type": "code",
        "id": "i_-FZjn_m8gk"
      },
      "outputs": [],
      "source": [
        "cnn.add(tf.keras.layers.Conv2D(filters=32, kernel_size=3, activation='relu'))\n",
        "cnn.add(tf.keras.layers.MaxPool2D(pool_size=2, strides=2))"
      ]
    },
    {
      "cell_type": "markdown",
      "metadata": {
        "colab_type": "text",
        "id": "tmiEuvTunKfk"
      },
      "source": [
        "### Step 3 - Flattening"
      ]
    },
    {
      "cell_type": "markdown",
      "metadata": {},
      "source": [
        "1차원 벡터로 만들기 "
      ]
    },
    {
      "cell_type": "code",
      "execution_count": 9,
      "metadata": {
        "colab": {},
        "colab_type": "code",
        "id": "6AZeOGCvnNZn"
      },
      "outputs": [],
      "source": [
        "cnn.add(tf.keras.layers.Flatten())"
      ]
    },
    {
      "cell_type": "markdown",
      "metadata": {
        "colab_type": "text",
        "id": "dAoSECOm203v"
      },
      "source": [
        "### Step 4 - Full Connection"
      ]
    },
    {
      "cell_type": "markdown",
      "metadata": {},
      "source": [
        "Unit = Hidden Layer의 뉴런수"
      ]
    },
    {
      "cell_type": "code",
      "execution_count": 10,
      "metadata": {
        "colab": {},
        "colab_type": "code",
        "id": "8GtmUlLd26Nq"
      },
      "outputs": [],
      "source": [
        "cnn.add(tf.keras.layers.Dense(units=128, activation='relu'))"
      ]
    },
    {
      "cell_type": "markdown",
      "metadata": {
        "colab_type": "text",
        "id": "yTldFvbX28Na"
      },
      "source": [
        "### Step 5 - Output Layer"
      ]
    },
    {
      "cell_type": "markdown",
      "metadata": {},
      "source": [
        "Unit = 1 (binary 이며, 0과1을 나타내는 뉴런의 수는 1개면 충분) / 결과 최적화를 위해서 sigmoid 함수(이진분류작업 중이기 때문 // 다중분류 = softmax)"
      ]
    },
    {
      "cell_type": "code",
      "execution_count": 11,
      "metadata": {
        "colab": {},
        "colab_type": "code",
        "id": "1p_Zj1Mc3Ko_"
      },
      "outputs": [],
      "source": [
        "cnn.add(tf.keras.layers.Dense(units=1, activation='sigmoid'))"
      ]
    },
    {
      "cell_type": "markdown",
      "metadata": {
        "colab_type": "text",
        "id": "D6XkI90snSDl"
      },
      "source": [
        "## Part 3 - Training the CNN"
      ]
    },
    {
      "cell_type": "markdown",
      "metadata": {
        "colab_type": "text",
        "id": "vfrFQACEnc6i"
      },
      "source": [
        "### Compiling the CNN"
      ]
    },
    {
      "cell_type": "code",
      "execution_count": 12,
      "metadata": {
        "colab": {},
        "colab_type": "code",
        "id": "NALksrNQpUlJ"
      },
      "outputs": [],
      "source": [
        "cnn.compile(optimizer = 'adam', loss = 'binary_crossentropy', metrics = ['accuracy'])"
      ]
    },
    {
      "cell_type": "markdown",
      "metadata": {
        "colab_type": "text",
        "id": "ehS-v3MIpX2h"
      },
      "source": [
        "### Training the CNN on the Training set and evaluating it on the Test set"
      ]
    },
    {
      "cell_type": "code",
      "execution_count": 13,
      "metadata": {
        "colab": {},
        "colab_type": "code",
        "id": "XUj1W4PJptta"
      },
      "outputs": [
        {
          "name": "stdout",
          "output_type": "stream",
          "text": [
            "Epoch 1/25\n",
            "250/250 [==============================] - 44s 172ms/step - loss: 0.6658 - accuracy: 0.5851 - val_loss: 0.6162 - val_accuracy: 0.6450\n",
            "Epoch 2/25\n",
            "250/250 [==============================] - 30s 121ms/step - loss: 0.5952 - accuracy: 0.6839 - val_loss: 0.5345 - val_accuracy: 0.7285\n",
            "Epoch 3/25\n",
            "250/250 [==============================] - 30s 118ms/step - loss: 0.5582 - accuracy: 0.7111 - val_loss: 0.5574 - val_accuracy: 0.7255\n",
            "Epoch 4/25\n",
            "250/250 [==============================] - 31s 123ms/step - loss: 0.5191 - accuracy: 0.7389 - val_loss: 0.4922 - val_accuracy: 0.7640\n",
            "Epoch 5/25\n",
            "250/250 [==============================] - 30s 118ms/step - loss: 0.5060 - accuracy: 0.7495 - val_loss: 0.4888 - val_accuracy: 0.7770\n",
            "Epoch 6/25\n",
            "250/250 [==============================] - 30s 119ms/step - loss: 0.4841 - accuracy: 0.7671 - val_loss: 0.5381 - val_accuracy: 0.7415\n",
            "Epoch 7/25\n",
            "250/250 [==============================] - 30s 121ms/step - loss: 0.4660 - accuracy: 0.7774 - val_loss: 0.5813 - val_accuracy: 0.7230\n",
            "Epoch 8/25\n",
            "250/250 [==============================] - 30s 119ms/step - loss: 0.4514 - accuracy: 0.7870 - val_loss: 0.4528 - val_accuracy: 0.7925\n",
            "Epoch 9/25\n",
            "250/250 [==============================] - 30s 119ms/step - loss: 0.4337 - accuracy: 0.7956 - val_loss: 0.4761 - val_accuracy: 0.7805\n",
            "Epoch 10/25\n",
            "250/250 [==============================] - 30s 121ms/step - loss: 0.4285 - accuracy: 0.8004 - val_loss: 0.4513 - val_accuracy: 0.7950\n",
            "Epoch 11/25\n",
            "250/250 [==============================] - 30s 119ms/step - loss: 0.4143 - accuracy: 0.8058 - val_loss: 0.4608 - val_accuracy: 0.7760\n",
            "Epoch 12/25\n",
            "250/250 [==============================] - 31s 123ms/step - loss: 0.3931 - accuracy: 0.8177 - val_loss: 0.4775 - val_accuracy: 0.7825\n",
            "Epoch 13/25\n",
            "250/250 [==============================] - 30s 120ms/step - loss: 0.3875 - accuracy: 0.8209 - val_loss: 0.4673 - val_accuracy: 0.7910\n",
            "Epoch 14/25\n",
            "250/250 [==============================] - 32s 127ms/step - loss: 0.3758 - accuracy: 0.8300 - val_loss: 0.4413 - val_accuracy: 0.8090\n",
            "Epoch 15/25\n",
            "250/250 [==============================] - 28s 114ms/step - loss: 0.3602 - accuracy: 0.8407 - val_loss: 0.4536 - val_accuracy: 0.8005\n",
            "Epoch 16/25\n",
            "250/250 [==============================] - 30s 118ms/step - loss: 0.3505 - accuracy: 0.8445 - val_loss: 0.4708 - val_accuracy: 0.8020\n",
            "Epoch 17/25\n",
            "250/250 [==============================] - 30s 118ms/step - loss: 0.3257 - accuracy: 0.8519 - val_loss: 0.4627 - val_accuracy: 0.7995\n",
            "Epoch 18/25\n",
            "250/250 [==============================] - 30s 121ms/step - loss: 0.3226 - accuracy: 0.8605 - val_loss: 0.4482 - val_accuracy: 0.8125\n",
            "Epoch 19/25\n",
            "250/250 [==============================] - 31s 123ms/step - loss: 0.3018 - accuracy: 0.8714 - val_loss: 0.4661 - val_accuracy: 0.8155\n",
            "Epoch 20/25\n",
            "250/250 [==============================] - 30s 122ms/step - loss: 0.2918 - accuracy: 0.8746 - val_loss: 0.4693 - val_accuracy: 0.8050\n",
            "Epoch 21/25\n",
            "250/250 [==============================] - 30s 121ms/step - loss: 0.2952 - accuracy: 0.8755 - val_loss: 0.5321 - val_accuracy: 0.7870\n",
            "Epoch 22/25\n",
            "250/250 [==============================] - 30s 121ms/step - loss: 0.2774 - accuracy: 0.8813 - val_loss: 0.4660 - val_accuracy: 0.8025\n",
            "Epoch 23/25\n",
            "250/250 [==============================] - 31s 124ms/step - loss: 0.2670 - accuracy: 0.8859 - val_loss: 0.5039 - val_accuracy: 0.8075\n",
            "Epoch 24/25\n",
            "250/250 [==============================] - 30s 118ms/step - loss: 0.2526 - accuracy: 0.8919 - val_loss: 0.5222 - val_accuracy: 0.8050\n",
            "Epoch 25/25\n",
            "250/250 [==============================] - 35s 140ms/step - loss: 0.2475 - accuracy: 0.8921 - val_loss: 0.5860 - val_accuracy: 0.7885\n"
          ]
        },
        {
          "data": {
            "text/plain": [
              "<keras.callbacks.History at 0x286e1599210>"
            ]
          },
          "execution_count": 13,
          "metadata": {},
          "output_type": "execute_result"
        }
      ],
      "source": [
        "cnn.fit(x = training_set, validation_data = test_set, epochs = 25)"
      ]
    },
    {
      "cell_type": "markdown",
      "metadata": {
        "colab_type": "text",
        "id": "U3PZasO0006Z"
      },
      "source": [
        "## Part 4 - Making a single prediction"
      ]
    },
    {
      "cell_type": "code",
      "execution_count": 14,
      "metadata": {
        "colab": {},
        "colab_type": "code",
        "id": "gsSiWEJY1BPB"
      },
      "outputs": [],
      "source": [
        "import numpy as np\n",
        "from keras.preprocessing import image\n",
        "test_image = image.load_img('dataset/single_prediction/cat_or_dog_1.jpg', target_size = (64, 64))\n",
        "test_image = image.img_to_array(test_image)\n",
        "test_image = np.expand_dims(test_image, axis = 0)\n",
        "result = cnn.predict(test_image)\n",
        "training_set.class_indices\n",
        "if result[0][0] == 1:\n",
        "  prediction = 'dog'\n",
        "else:\n",
        "  prediction = 'cat'"
      ]
    },
    {
      "cell_type": "code",
      "execution_count": 15,
      "metadata": {
        "colab": {},
        "colab_type": "code",
        "id": "ED9KB3I54c1i"
      },
      "outputs": [
        {
          "name": "stdout",
          "output_type": "stream",
          "text": [
            "dog\n"
          ]
        }
      ],
      "source": [
        "print(prediction)"
      ]
    }
  ],
  "metadata": {
    "colab": {
      "collapsed_sections": [],
      "name": "convolutional_neural_network.ipynb",
      "provenance": [],
      "toc_visible": true
    },
    "interpreter": {
      "hash": "d40dc84bac016c4df82d99ae09889c67c16f01b37eba5866564a90a028c14ae7"
    },
    "kernelspec": {
      "display_name": "Python 3.10.2 64-bit",
      "language": "python",
      "name": "python3"
    },
    "language_info": {
      "codemirror_mode": {
        "name": "ipython",
        "version": 3
      },
      "file_extension": ".py",
      "mimetype": "text/x-python",
      "name": "python",
      "nbconvert_exporter": "python",
      "pygments_lexer": "ipython3",
      "version": "3.10.2"
    }
  },
  "nbformat": 4,
  "nbformat_minor": 0
}
